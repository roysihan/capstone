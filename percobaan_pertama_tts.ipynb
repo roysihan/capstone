{
  "cells": [
    {
      "cell_type": "code",
      "execution_count": 4,
      "metadata": {
        "colab": {
          "base_uri": "https://localhost:8080/",
          "height": 197
        },
        "id": "CrMUtHKRDX66",
        "outputId": "5db3b4e4-1101-4528-fef5-84b59b0ea78e"
      },
      "outputs": [
        {
          "output_type": "stream",
          "name": "stdout",
          "text": [
            "Requirement already satisfied: gTTS in /usr/local/lib/python3.10/dist-packages (2.5.1)\n",
            "Requirement already satisfied: requests<3,>=2.27 in /usr/local/lib/python3.10/dist-packages (from gTTS) (2.31.0)\n",
            "Requirement already satisfied: click<8.2,>=7.1 in /usr/local/lib/python3.10/dist-packages (from gTTS) (8.1.7)\n",
            "Requirement already satisfied: charset-normalizer<4,>=2 in /usr/local/lib/python3.10/dist-packages (from requests<3,>=2.27->gTTS) (3.3.2)\n",
            "Requirement already satisfied: idna<4,>=2.5 in /usr/local/lib/python3.10/dist-packages (from requests<3,>=2.27->gTTS) (3.7)\n",
            "Requirement already satisfied: urllib3<3,>=1.21.1 in /usr/local/lib/python3.10/dist-packages (from requests<3,>=2.27->gTTS) (2.0.7)\n",
            "Requirement already satisfied: certifi>=2017.4.17 in /usr/local/lib/python3.10/dist-packages (from requests<3,>=2.27->gTTS) (2024.2.2)\n"
          ]
        },
        {
          "output_type": "display_data",
          "data": {
            "text/plain": [
              "<IPython.lib.display.Audio object>"
            ],
            "text/html": [
              "\n",
              "                <audio  controls=\"controls\" autoplay=\"autoplay\">\n",
              "                    <source src=\"data:audio/mpeg;base64,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\" type=\"audio/mpeg\" />\n",
              "                    Your browser does not support the audio element.\n",
              "                </audio>\n",
              "              "
            ]
          },
          "metadata": {}
        }
      ],
      "source": [
        "# Text-to-Speech with gTTS in Google Colab\n",
        "\n",
        "## Install the gTTS library\n",
        "!pip install gTTS\n",
        "\n",
        "## Import necessary libraries\n",
        "from gtts import gTTS\n",
        "from IPython.display import Audio, display\n",
        "\n",
        "## Function to convert text to speech\n",
        "def text_to_speech(text, lang='en'):\n",
        "    tts = gTTS(text=text, lang=lang)\n",
        "    tts.save(\"output.mp3\")\n",
        "    display(Audio(\"output.mp3\", autoplay=True))\n",
        "\n",
        "## Convert Text to Speech\n",
        "\n",
        "# Input text\n",
        "text = \"my name fernando alonso.\"\n",
        "\n",
        "# Convert to speech and play the audio\n",
        "text_to_speech(text)\n"
      ]
    }
  ],
  "metadata": {
    "language_info": {
      "name": "python"
    },
    "colab": {
      "provenance": []
    },
    "kernelspec": {
      "name": "python3",
      "display_name": "Python 3"
    }
  },
  "nbformat": 4,
  "nbformat_minor": 0
}